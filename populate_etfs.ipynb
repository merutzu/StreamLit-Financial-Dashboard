{
 "cells": [
  {
   "cell_type": "code",
   "execution_count": 21,
   "metadata": {},
   "outputs": [],
   "source": [
    "import config \n",
    "import csv \n",
    "import psycopg2\n",
    "import psycopg2.extras\n",
    "import pandas as pd\n",
    "from pathlib import Path\n",
    "from sqlalchemy import create_engine"
   ]
  },
  {
   "cell_type": "code",
   "execution_count": 23,
   "metadata": {},
   "outputs": [
    {
     "name": "stdout",
     "output_type": "stream",
     "text": [
      "ARKK\n",
      "ARKF\n",
      "ARKG\n",
      "IZRL\n",
      "PRNT\n",
      "ARKQ\n",
      "ARKW\n",
      "ARKK\n",
      "ARKF\n",
      "ARKG\n",
      "IZRL\n",
      "PRNT\n",
      "ARKQ\n",
      "ARKW\n"
     ]
    }
   ],
   "source": [
    "connection = psycopg2.connect(host=config.DB_HOST, database=config.DB_NAME, user=config.DB_USER, password=config.DB_PASS, port=config.DB_PORT)\n",
    "# connection.autocommit = True\n",
    "cursor = connection.cursor(cursor_factory=psycopg2.extras.DictCursor)\n",
    "\n",
    "cursor.execute(\"select * from stock where is_etf = TRUE\")\n",
    "\n",
    "etfs = cursor.fetchall()\n",
    "\n",
    "dates = ['2022-08-23', '2022-08-24']\n",
    "\n",
    "for current_date in dates:\n",
    "    for etf in etfs:\n",
    "        print(etf['symbol'])\n",
    "        \n",
    "        with open(f\"new/{current_date}/{etf['symbol']}.csv\") as f:\n",
    "            reader = csv.reader(f)\n",
    "            next(reader)\n",
    "            for row in reader:\n",
    "                ticker = row[4]\n",
    "                shares = row[6]\n",
    "                weight = row[8]\n",
    "            \n",
    "                if ticker:\n",
    "                    cursor.execute(\"\"\"\n",
    "                        SELECT * FROM stock WHERE symbol = %s\n",
    "                    \"\"\", (ticker,))\n",
    "                    stock = cursor.fetchone()\n",
    "                    if stock:\n",
    "                        cursor.execute(\"\"\"\n",
    "                            INSERT INTO etf_holding (etf_id, holding_id, dt, shares, weight)\n",
    "                            VALUES (%s, %s, %s, %s, %s)                            \n",
    "                        \"\"\", (etf['id'], stock['id'], current_date, shares, weight))\n",
    "\n",
    "connection.commit()"
   ]
  },
  {
   "cell_type": "code",
   "execution_count": 6,
   "metadata": {},
   "outputs": [],
   "source": [
    "# tst = Path(\"PRNT.csv\")\n",
    "# new_df = pd.read_csv(tst)#,index_col='date', parse_dates=True, infer_datetime_format=True\n",
    "# new_df = new_df.sort_index()\n",
    "# new_df.isnull().sum()"
   ]
  },
  {
   "cell_type": "code",
   "execution_count": 10,
   "metadata": {},
   "outputs": [],
   "source": [
    "# new_df.dtypes"
   ]
  },
  {
   "cell_type": "code",
   "execution_count": null,
   "metadata": {},
   "outputs": [],
   "source": [
    "#new_df[\"weight\"] =new_df[\"weight\"].str.replace('%','').astype(\"float\")"
   ]
  },
  {
   "cell_type": "code",
   "execution_count": null,
   "metadata": {},
   "outputs": [],
   "source": [
    "# new_df.head()"
   ]
  },
  {
   "cell_type": "code",
   "execution_count": null,
   "metadata": {},
   "outputs": [],
   "source": [
    "# test47 = new_df"
   ]
  },
  {
   "cell_type": "code",
   "execution_count": null,
   "metadata": {},
   "outputs": [],
   "source": [
    "# test47 = new_df.replace(',','', regex=True)"
   ]
  },
  {
   "cell_type": "code",
   "execution_count": null,
   "metadata": {},
   "outputs": [],
   "source": [
    "# test47.head()"
   ]
  },
  {
   "cell_type": "code",
   "execution_count": null,
   "metadata": {},
   "outputs": [],
   "source": [
    "#test47.to_csv('PRNT2.csv')"
   ]
  }
 ],
 "metadata": {
  "kernelspec": {
   "display_name": "Python [conda env:ml]",
   "language": "python",
   "name": "conda-env-ml-py"
  },
  "language_info": {
   "codemirror_mode": {
    "name": "ipython",
    "version": 3
   },
   "file_extension": ".py",
   "mimetype": "text/x-python",
   "name": "python",
   "nbconvert_exporter": "python",
   "pygments_lexer": "ipython3",
   "version": "3.8.5"
  }
 },
 "nbformat": 4,
 "nbformat_minor": 4
}
