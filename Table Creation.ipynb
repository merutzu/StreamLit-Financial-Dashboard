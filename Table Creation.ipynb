{
 "cells": [
  {
   "cell_type": "code",
   "execution_count": null,
   "metadata": {},
   "outputs": [],
   "source": [
    "CREATE TABLE stock(\n",
    "    id SERIAL PRIMARY KEY,\n",
    "    symbol TEXT NOT NULL, \n",
    "    name TEXT NOT NULL, \n",
    "    exchange TEXT NOT NULL,\n",
    "    is_etf BOOLEAN NOT NULL\n",
    ");\n",
    "\n",
    "CREATE TABLE mention (\n",
    "    stock_id INTEGER,\n",
    "    dt TIMESTAMP WITHOUT TIME ZONE NOT NULL,\n",
    "    message TEXT NOT NULL,\n",
    "    source TEXT NOT NULL, \n",
    "    url TEXT NOT NULL,\n",
    "    PRIMARY KEY (stock_id, dt),\n",
    "    CONSTRAINT fk_mention_stock FOREIGN KEY (stock_id) REFERENCES stock (id)\n",
    ");\n",
    "\n",
    "CREATE INDEX ON mention (stock_id, dt DESC);\n",
    "SELECT create_hypertable('mention', 'dt');\n",
    "\n",
    "CREATE TABLE etf_holding (\n",
    "    etf_id INTEGER NOT NULL,\n",
    "    holding_id INTEGER NOT NULL,\n",
    "    dt DATE NOT NULL,\n",
    "    shares NUMERIC,\n",
    "    weight NUMERIC,\n",
    "    PRIMARY KEY (etf_id, holding_id, dt),\n",
    "    CONSTRAINT fk_etf FOREIGN KEY (etf_id) REFERENCES STOCK (id),\n",
    "    CONSTRAINT fk_holding FOREIGN KEY (holding_id) REFERENCES stock (id)\n",
    ");\n",
    "\n",
    "CREATE TABLE stock_price (\n",
    "    stock_id INTEGER NOT NULL,\n",
    "    dt TIMESTAMP WITHOUT TIME ZONE NOT NULL,\n",
    "    open NUMERIC (6,2) NOT NULL,\n",
    "    high NUMERIC (6,2) NOT NULL,\n",
    "    low NUMERIC (6,2) NOT NULL,\n",
    "    close NUMERIC (6,2) NOT NULL,\n",
    "    volume NUMERIC NOT NULL,\n",
    "    PRIMARY KEY (stock_id, dt),\n",
    "    CONSTRAINT fk_stock FOREIGN KEY (stock_id) REFERENCES stock (id)\n",
    ");\n",
    "\n",
    "CREATE INDEX ON stock_price (stock_id, dt DESC);\n",
    "\n",
    "SELECT create_hypertable('stock_price', 'dt');"
   ]
  },
  {
   "cell_type": "code",
   "execution_count": 5,
   "metadata": {},
   "outputs": [],
   "source": [
    "import streamlit as st\n",
    "import pandas as pd\n",
    "import numpy as np\n",
    "import requests\n",
    "import tweepy\n",
    "import config \n",
    "import psycopg2, psycopg2.extras\n",
    "import plotly.graph_objects as go"
   ]
  },
  {
   "cell_type": "code",
   "execution_count": 6,
   "metadata": {},
   "outputs": [],
   "source": [
    "connection = psycopg2.connect(host='localhost', database='etfdb', user='postgres', password='secret', port='4747')\n",
    "\n",
    "cursor = connection.cursor(cursor_factory=psycopg2.extras.DictCursor)"
   ]
  },
  {
   "cell_type": "code",
   "execution_count": 10,
   "metadata": {},
   "outputs": [
    {
     "ename": "SyntaxError",
     "evalue": "unexpected EOF while parsing (<ipython-input-10-e270e46b2495>, line 5)",
     "output_type": "error",
     "traceback": [
      "\u001b[1;36m  File \u001b[1;32m\"<ipython-input-10-e270e46b2495>\"\u001b[1;36m, line \u001b[1;32m5\u001b[0m\n\u001b[1;33m    order by day asc\"\"\", connection, params={'stock':'id'}\u001b[0m\n\u001b[1;37m                                                          \n^\u001b[0m\n\u001b[1;31mSyntaxError\u001b[0m\u001b[1;31m:\u001b[0m unexpected EOF while parsing\n"
     ]
    }
   ],
   "source": [
    "data = pd.read_sql(\"\"\"\n",
    "     select date(day) as day, open, high, low, close\n",
    "     from daily_bars\n",
    "     where stock_id = (select id from stock where symbol = 'MSFT')\n",
    "     order by day asc\"\"\", connection, params={'stock':'id'}"
   ]
  },
  {
   "cell_type": "code",
   "execution_count": null,
   "metadata": {},
   "outputs": [],
   "source": [
    "data = pd.read_sql(\"\"\"\n",
    "        select date(day) as day, open, high, low, close\n",
    "        from daily_bars\n",
    "        where stock_id = (select id from stock where UPPER(symbol) = %s) \n",
    "        order by day asc\"\"\", connection, params=(symbol.upper(),))"
   ]
  },
  {
   "cell_type": "code",
   "execution_count": null,
   "metadata": {},
   "outputs": [],
   "source": []
  }
 ],
 "metadata": {
  "kernelspec": {
   "display_name": "Python 3",
   "language": "python",
   "name": "python3"
  },
  "language_info": {
   "codemirror_mode": {
    "name": "ipython",
    "version": 3
   },
   "file_extension": ".py",
   "mimetype": "text/x-python",
   "name": "python",
   "nbconvert_exporter": "python",
   "pygments_lexer": "ipython3",
   "version": "3.8.5"
  }
 },
 "nbformat": 4,
 "nbformat_minor": 4
}
